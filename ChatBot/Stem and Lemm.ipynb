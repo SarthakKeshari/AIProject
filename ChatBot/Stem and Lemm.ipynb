{
 "cells": [
  {
   "cell_type": "code",
   "execution_count": 1,
   "metadata": {},
   "outputs": [
    {
     "name": "stdout",
     "output_type": "stream",
     "text": [
      "chocolate\n",
      "chocolate\n",
      "chocol\n"
     ]
    }
   ],
   "source": [
    "from nltk.stem import WordNetLemmatizer\n",
    "from nltk.stem import PorterStemmer\n",
    "from nltk.tokenize import word_tokenize\n",
    "\n",
    "pattern = \"chocolate\"\n",
    "lemmatizer = WordNetLemmatizer()\n",
    "lem=\"\"\n",
    "for word in pattern.split(\" \"):\n",
    "    print(word)\n",
    "    lem+=lemmatizer.lemmatize(word)\n",
    "    \n",
    "print(lem)\n",
    "\n",
    "\n",
    "ps = PorterStemmer()\n",
    "stem=\"\"\n",
    "for word in pattern.split(\" \"):\n",
    "    stem+=ps.stem(word)\n",
    "    \n",
    "print(stem)"
   ]
  },
  {
   "cell_type": "code",
   "execution_count": null,
   "metadata": {},
   "outputs": [],
   "source": []
  },
  {
   "cell_type": "code",
   "execution_count": null,
   "metadata": {},
   "outputs": [],
   "source": []
  }
 ],
 "metadata": {
  "kernelspec": {
   "display_name": "Python 3",
   "language": "python",
   "name": "python3"
  },
  "language_info": {
   "codemirror_mode": {
    "name": "ipython",
    "version": 3
   },
   "file_extension": ".py",
   "mimetype": "text/x-python",
   "name": "python",
   "nbconvert_exporter": "python",
   "pygments_lexer": "ipython3",
   "version": "3.8.5"
  }
 },
 "nbformat": 4,
 "nbformat_minor": 4
}
